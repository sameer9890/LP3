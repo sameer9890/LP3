{
 "cells": [
  {
   "cell_type": "code",
   "execution_count": 1,
   "id": "eb0401d3",
   "metadata": {},
   "outputs": [],
   "source": [
    "import pandas as pd\n",
    "import numpy as np\n",
    "import seaborn as sns\n",
    "import matplotlib.pyplot as plt\n",
    "#get_ipython().run_line_magic('matplotlib', 'inline')"
   ]
  },
  {
   "cell_type": "code",
   "execution_count": 2,
   "id": "9affa699",
   "metadata": {},
   "outputs": [],
   "source": [
    "data=pd.read_csv('d2.csv')"
   ]
  },
  {
   "cell_type": "code",
   "execution_count": 3,
   "id": "c87ce0b4",
   "metadata": {},
   "outputs": [
    {
     "data": {
      "text/plain": [
       "<matplotlib.collections.PathCollection at 0x23bbfb085b0>"
      ]
     },
     "execution_count": 3,
     "metadata": {},
     "output_type": "execute_result"
    },
    {
     "data": {
      "image/png": "[encoded data removed]",
      "text/plain": [
       "<Figure size 432x288 with 1 Axes>"
      ]
     },
     "metadata": {
      "needs_background": "light"
     },
     "output_type": "display_data"
    }
   ],
   "source": [
    "plt.scatter(data['x1'],data['y1'])"
   ]
  },
  {
   "cell_type": "code",
   "execution_count": 4,
   "id": "0c28eb31",
   "metadata": {},
   "outputs": [],
   "source": [
    "def dist(c,x):\n",
    "    return np.sum(np.abs(c-x))"
   ]
  },
  {
   "cell_type": "code",
   "execution_count": 5,
   "id": "8b0333e8",
   "metadata": {},
   "outputs": [],
   "source": [
    "data1=np.array(data)"
   ]
  },
  {
   "cell_type": "code",
   "execution_count": 6,
   "id": "6947ac70",
   "metadata": {},
   "outputs": [
    {
     "data": {
      "text/plain": [
       "((8, 2), (1, 2), (1, 2))"
      ]
     },
     "execution_count": 6,
     "metadata": {},
     "output_type": "execute_result"
    }
   ],
   "source": [
    "c1=data1[1]\n",
    "c2=data1[7]\n",
    "x=np.array(data1)\n",
    "c1=c1.reshape(1,2)\n",
    "c2=c2.reshape(1,2)\n",
    "x.shape,c1.shape,c2.shape"
   ]
  },
  {
   "cell_type": "code",
   "execution_count": 7,
   "id": "5a8f059d",
   "metadata": {},
   "outputs": [],
   "source": [
    "for i in range(20):\n",
    "    l1=[]\n",
    "    l2=[]\n",
    "    for j in range(len(x)):\n",
    "        d1=dist(c1,x[j])\n",
    "        d2=dist(c2,x[j])\n",
    "        if(d1<=d2):\n",
    "            l1.append(x[j])\n",
    "            \n",
    "        else:\n",
    "            l2.append(x[j])\n",
    "    \n",
    "    c1=np.mean(l1,axis=0)\n",
    "    c2=np.mean(l2,axis=0)"
   ]
  },
  {
   "cell_type": "code",
   "execution_count": 8,
   "id": "d26b8104",
   "metadata": {},
   "outputs": [
    {
     "data": {
      "text/plain": [
       "(4, 2)"
      ]
     },
     "execution_count": 8,
     "metadata": {},
     "output_type": "execute_result"
    }
   ],
   "source": [
    "l1=np.array(l1)\n",
    "l1.shape"
   ]
  },
  {
   "cell_type": "code",
   "execution_count": 9,
   "id": "c01860a9",
   "metadata": {},
   "outputs": [
    {
     "data": {
      "text/plain": [
       "(4, 2)"
      ]
     },
     "execution_count": 9,
     "metadata": {},
     "output_type": "execute_result"
    }
   ],
   "source": [
    "l2=np.array(l2)\n",
    "l2.shape"
   ]
  },
  {
   "cell_type": "code",
   "execution_count": 10,
   "id": "e737aa2e",
   "metadata": {},
   "outputs": [
    {
     "data": {
      "text/plain": [
       "<matplotlib.collections.PathCollection at 0x23bc1c244c0>"
      ]
     },
     "execution_count": 10,
     "metadata": {},
     "output_type": "execute_result"
    },
    {
     "data": {
      "image/png": "[encoded data removed]",
      "text/plain": [
       "<Figure size 432x288 with 1 Axes>"
      ]
     },
     "metadata": {
      "needs_background": "light"
     },
     "output_type": "display_data"
    }
   ],
   "source": [
    "plt.scatter(x=l1[:,0],y=l1[:,1],c='r')\n",
    "plt.scatter(x=l2[:,0],y=l2[:,1],c='g')\n",
    "plt.scatter(x=c1[0],y=c1[1],c='b')\n",
    "plt.scatter(x=c2[0],y=c2[1],c='y')"
   ]
  },
  {
   "cell_type": "code",
   "execution_count": null,
   "id": "8c0364f8",
   "metadata": {},
   "outputs": [],
   "source": []
  }
 ],
 "metadata": {
  "interpreter": {
   "hash": "56ff1c1c3135541108fe132e771aa45bbbf614a992258041b003da88d6e3d5e1"
  },
  "kernelspec": {
   "display_name": "Python 3.9.6 64-bit",
   "language": "python",
   "name": "python3"
  },
  "language_info": {
   "codemirror_mode": {
    "name": "ipython",
    "version": 3
   },
   "file_extension": ".py",
   "mimetype": "text/x-python",
   "name": "python",
   "nbconvert_exporter": "python",
   "pygments_lexer": "ipython3",
   "version": "3.9.6"
  }
 },
 "nbformat": 4,
 "nbformat_minor": 5
}
